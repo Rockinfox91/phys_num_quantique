{
 "cells": [
  {
   "cell_type": "markdown",
   "id": "0099f517",
   "metadata": {},
   "source": [
    "# Partie II - Evolution temporelle\n",
    "\n",
    "Ici, on utilise l'algorithme d'Euler explicite pour obtenir l'évolution temporelle de la fonction d'onde. Cet algorithme, bien que simple à utiliser, n'est pas très efficace.\n",
    "\n",
    "Lors de la partie 1, on utilisait un Hamiltonien à valeurs réelles, ici nous sommes obligés d'utiliser des valeurs complexes.\n",
    "\n",
    "Imaginons que l'on obtienne un hamiltonien complexe $\\psi(x)$ sous la forme d'un array numpy"
   ]
  },
  {
   "cell_type": "code",
   "execution_count": 32,
   "id": "f26e91f9",
   "metadata": {},
   "outputs": [],
   "source": [
    "import numpy as np\n",
    "import matplotlib.pyplot as plt\n",
    "\n",
    "\n",
    "# On définit d'abord les constantes dx et dt.\n",
    "N = 100\n",
    "L = 5\n",
    "dx = L/N\n",
    "\n",
    "M = 10000\n",
    "T = 1\n",
    "dt = T/M\n",
    "\n",
    "# Puis x tel que \n",
    "\n",
    "x = np.linspace(-L,L,N)"
   ]
  },
  {
   "cell_type": "markdown",
   "id": "1cb0ddb5",
   "metadata": {},
   "source": [
    "On réitère ensuite la formation d'un hamiltionien vu lors de la partie 1 pour un potentiel nul"
   ]
  },
  {
   "cell_type": "code",
   "execution_count": 33,
   "id": "4ffd180d",
   "metadata": {},
   "outputs": [],
   "source": [
    "V = np.zeros(N) #potentiel nul\n",
    "\n",
    "def get_matrice(V):\n",
    "\n",
    "    d = np.zeros(N)\n",
    "    e= np.zeros(N-1)\n",
    "\n",
    "    for i in range(V.size):\n",
    "        d[i] = 2/(dx**2) + V[i]\n",
    "\n",
    "    for i in range(e.size):\n",
    "        e[i] = -1/(dx**2)\n",
    "        \n",
    "    return d,e\n",
    "\n",
    "d,e = get_matrice(V)\n",
    "\n",
    "from scipy.linalg import eigh_tridiagonal\n",
    "\n",
    "## Puis, on calcule w et v respectivement les valeurs propres et vecteurs propres de H\n",
    "\n",
    "w, v = eigh_tridiagonal(d,e)\n",
    "\n",
    "# On doit désormais normaliser les vecteurs propres :\n",
    "\n",
    "def normalize(m, dx):\n",
    "    m /= np.linalg.norm(m,axis=0)\n",
    "    m /= np.sqrt(dx)\n",
    "    return m\n",
    "\n",
    "# On crée la fonction pour former psi à partir de V (dans le cas où V n'est plus le même)\n",
    "\n",
    "def get_psi(V):\n",
    "    d,e = get_matrice(V)\n",
    "    \n",
    "    w, v = eigh_tridiagonal(d,e)\n",
    "    \n",
    "    for vec in v:\n",
    "        normalize(v,dx)\n",
    "    v0 = np.zeros((N,N))\n",
    "    for i in range(N):\n",
    "        for y in range(N):            #On échange ligne et colonnes\n",
    "            v0[i][y] = v[y][i]\n",
    "    \n",
    "    return w,v0\n",
    "\n",
    "w,v = get_psi(V)\n"
   ]
  },
  {
   "cell_type": "markdown",
   "id": "5c9de63e",
   "metadata": {},
   "source": [
    "Puis, on forme la matrice H complète à partir de ses valeurs tridiagonale"
   ]
  },
  {
   "cell_type": "code",
   "execution_count": 34,
   "id": "b277ae97",
   "metadata": {},
   "outputs": [
    {
     "name": "stdout",
     "output_type": "stream",
     "text": [
      "[[0.+0.j 0.+0.j 0.+0.j ... 0.+0.j 0.+0.j 0.+0.j]\n",
      " [0.+0.j 0.+0.j 0.+0.j ... 0.+0.j 0.+0.j 0.+0.j]\n",
      " [0.+0.j 0.+0.j 0.+0.j ... 0.+0.j 0.+0.j 0.+0.j]\n",
      " ...\n",
      " [0.+0.j 0.+0.j 0.+0.j ... 0.+0.j 0.+0.j 0.+0.j]\n",
      " [0.+0.j 0.+0.j 0.+0.j ... 0.+0.j 0.+0.j 0.+0.j]\n",
      " [0.+0.j 0.+0.j 0.+0.j ... 0.+0.j 0.+0.j 0.+0.j]]\n",
      "[[ 800.+0.j -400.+0.j    0.+0.j ...    0.+0.j    0.+0.j    0.+0.j]\n",
      " [-400.+0.j  800.+0.j -400.+0.j ...    0.+0.j    0.+0.j    0.+0.j]\n",
      " [   0.+0.j -400.+0.j  800.+0.j ...    0.+0.j    0.+0.j    0.+0.j]\n",
      " ...\n",
      " [   0.+0.j    0.+0.j    0.+0.j ...  800.+0.j -400.+0.j    0.+0.j]\n",
      " [   0.+0.j    0.+0.j    0.+0.j ... -400.+0.j  800.+0.j -400.+0.j]\n",
      " [   0.+0.j    0.+0.j    0.+0.j ...    0.+0.j -400.+0.j  800.+0.j]]\n"
     ]
    }
   ],
   "source": [
    "H = np.zeros((N,N),dtype=complex)\n",
    "\n",
    "print(H)\n",
    "\n",
    "# on ajoute les valeurs dans H\n",
    "for i in range(N):\n",
    "    H[i][i] += d[i]\n",
    "    if(i != N-1):\n",
    "        H[i][i+1] += e[i]\n",
    "        H[i+1][i] += e[i]\n",
    "\n",
    "print(H)"
   ]
  },
  {
   "cell_type": "markdown",
   "id": "365dbc45",
   "metadata": {},
   "source": [
    "On forme ensuite une liste de liste psi\\[t\\]\\[x\\] représentant toutes les valeurs de v (le vecteur de psi) pour tout t"
   ]
  },
  {
   "cell_type": "code",
   "execution_count": 35,
   "id": "309d1b7b",
   "metadata": {},
   "outputs": [
    {
     "name": "stdout",
     "output_type": "stream",
     "text": [
      "[[ 0.01957167+0.j -0.0391244 +0.j  0.05863928+0.j ...  0.05863928+0.j\n",
      "   0.0391244 +0.j -0.01957167+0.j]\n",
      " [ 0.        +0.j  0.        +0.j  0.        +0.j ...  0.        +0.j\n",
      "   0.        +0.j  0.        +0.j]\n",
      " [ 0.        +0.j  0.        +0.j  0.        +0.j ...  0.        +0.j\n",
      "   0.        +0.j  0.        +0.j]\n",
      " ...\n",
      " [ 0.        +0.j  0.        +0.j  0.        +0.j ...  0.        +0.j\n",
      "   0.        +0.j  0.        +0.j]\n",
      " [ 0.        +0.j  0.        +0.j  0.        +0.j ...  0.        +0.j\n",
      "   0.        +0.j  0.        +0.j]\n",
      " [ 0.        +0.j  0.        +0.j  0.        +0.j ...  0.        +0.j\n",
      "   0.        +0.j  0.        +0.j]]\n"
     ]
    }
   ],
   "source": [
    "psi = np.zeros((M,N),dtype=complex)\n",
    "\n",
    "#On pose un p défini qui représente l'énergie dans laquelle on se place\n",
    "\n",
    "p = 0\n",
    "\n",
    "for i in range(N):\n",
    "    psi[0][i] = v[i][p]\n",
    "psi[0] = normalize(psi[0],dx)\n",
    "print(psi)"
   ]
  },
  {
   "cell_type": "markdown",
   "id": "54739e63",
   "metadata": {},
   "source": [
    "Enfin, on utilise la formule (7) du poly ce qui nous donne les valeurs de psi pour différents temps :"
   ]
  },
  {
   "cell_type": "code",
   "execution_count": 56,
   "id": "7934bb13",
   "metadata": {},
   "outputs": [
    {
     "data": {
      "image/png": "[encoded data removed]",
      "text/plain": [
       "<Figure size 432x288 with 1 Axes>"
      ]
     },
     "metadata": {
      "needs_background": "light"
     },
     "output_type": "display_data"
    }
   ],
   "source": [
    "for i in range(M-1):\n",
    "    psi[i+1] = psi[i] - dt*np.matmul(1j*H,psi[i])\n",
    "    psi[i+1] = normalize(psi[i+1],dx)\n",
    "    \n",
    "# On crée la fonction pour afficher les graphiques\n",
    "\n",
    "nb_dt = 10\n",
    "\n",
    "def get_graph(v,name):\n",
    "    for i in range(nb_dt):\n",
    "        plt.plot(x,v[i],label=\"Numérique $t=%i \\cdot dt$\" %i)\n",
    "    plt.xlabel('$x$')\n",
    "    plt.ylabel('$\\Psi(x)$')\n",
    "    plt.title('Norme de $\\Psi(x)$ en fonction de la position x durant %i dt (dt = %s)' %(nb_dt,np.format_float_scientific(dt, precision = 1, exp_digits=1)))\n",
    "    plt.savefig('document_tempo/psi_fonction_de_x_%s_m%i.pdf' %(name,M),format='pdf')\n",
    "    plt.savefig('document_tempo/psi_fonction_de_x_%s_m%i' %(name,M))\n",
    "    plt.show()\n",
    "\n",
    "get_graph(np.abs(psi),\"evo_temp_etat\")"
   ]
  },
  {
   "cell_type": "markdown",
   "id": "42da2d83",
   "metadata": {},
   "source": [
    "### Sources :\n",
    " - https://www.f-legrand.fr/scidoc/docmml/numerique/euler/euler/euler.html\n",
    " - https://www.youtube.com/watch?v=tsK72kSgPoI\n",
    " - https://www.moonbooks.org/Articles/How-to-create-a-matrix-of-complex-numbers-in-python-using-numpy-/"
   ]
  }
 ],
 "metadata": {
  "kernelspec": {
   "display_name": "Python 3 (ipykernel)",
   "language": "python",
   "name": "python3"
  },
  "language_info": {
   "codemirror_mode": {
    "name": "ipython",
    "version": 3
   },
   "file_extension": ".py",
   "mimetype": "text/x-python",
   "name": "python",
   "nbconvert_exporter": "python",
   "pygments_lexer": "ipython3",
   "version": "3.9.12"
  }
 },
 "nbformat": 4,
 "nbformat_minor": 5
}
