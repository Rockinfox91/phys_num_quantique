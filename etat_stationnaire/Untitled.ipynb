{
 "cells": [
  {
   "cell_type": "markdown",
   "id": "f50b8607",
   "metadata": {},
   "source": [
    "# Projet Numérique : Dynamique Quantique\n",
    "\n",
    "## Résolution en états stationnaire \n",
    "\n",
    "Numba : a voir vers la fin\n",
    "http://www.enit.rnu.tn/fr/Minds/quant/amphi6MQ.pdf pour explication sin et cos"
   ]
  },
  {
   "cell_type": "code",
   "execution_count": null,
   "id": "84e2c304",
   "metadata": {},
   "outputs": [],
   "source": [
    "import numpy as np\n",
    "import matplotlib.pyplot as plt\n",
    "\n",
    "N = 100\n",
    "L = 5\n",
    "\n",
    "dx = L/N\n",
    "\n",
    "print(\"dx : \", dx)\n",
    "\n",
    "## On initialise x tel que \n",
    "\n",
    "x = np.linspace(-L,L,N)\n",
    "\n",
    "print(\"x : \\n\",x)"
   ]
  },
  {
   "cell_type": "code",
   "execution_count": null,
   "id": "e85605ea",
   "metadata": {},
   "outputs": [],
   "source": [
    "## On commence par former la liste de valeurs des vecteurs et V.\n",
    "\n",
    "V = np.zeros(N) #potentiel nul\n",
    "V2 = np.zeros(N) #potentiel harmonique\n",
    "\n",
    "''' Pour un potentiel fini :\n",
    "for i in range(x.size):\n",
    "    if (x[i]<= -L/2) or (x[i]>=L/2):\n",
    "        V[i] = 10\n",
    "\n",
    "'''\n",
    "\n",
    "omega = 1\n",
    "\n",
    "for i in range(N):\n",
    "    V2[i] = (omega*x[i])**2 / 2\n",
    "\n",
    "print(\"V : \", V)\n",
    "print(\"V2 : \", V2)\n",
    "\n",
    "plt.plot(x,V)\n",
    "plt.plot(x,V2)\n",
    "\n",
    "plt.show()"
   ]
  },
  {
   "cell_type": "code",
   "execution_count": null,
   "id": "8e4bf128",
   "metadata": {},
   "outputs": [],
   "source": [
    "## Ensuite, on forme les matrices d et e diagonales principale et supérieure (resp) de H\n",
    "\n",
    "def get_matrice(V):\n",
    "\n",
    "    d = np.zeros(N)\n",
    "    e= np.zeros(N-1)\n",
    "\n",
    "    for i in range(V.size):\n",
    "        d[i] = 2/(dx**2) + V[i]\n",
    "\n",
    "    for i in range(e.size):\n",
    "        e[i] = -1/(dx**2)\n",
    "        \n",
    "    return d,e\n",
    "\n",
    "d,e = get_matrice(V)\n",
    "\n",
    "print(\"d : \\n\", d)\n",
    "print(\"e : \\n\", e)"
   ]
  },
  {
   "cell_type": "code",
   "execution_count": null,
   "id": "2c04c04d",
   "metadata": {},
   "outputs": [],
   "source": [
    "from scipy.linalg import eigh_tridiagonal\n",
    "\n",
    "## Puis, on calcule w et v respectivement les valeurs propres et vecteurs propres de H\n",
    "\n",
    "w, v = eigh_tridiagonal(d,e)\n",
    "\n",
    "print(\"w : \\n\", w)\n",
    "print(\"v : \\n\", v)"
   ]
  },
  {
   "cell_type": "code",
   "execution_count": null,
   "id": "c1b01961",
   "metadata": {},
   "outputs": [],
   "source": [
    "# On doit désormais normaliser les vecteurs propres :\n",
    "\n",
    "def normalize(m, dx):\n",
    "    m /= np.linalg.norm(m,axis=0)\n",
    "    m /= np.sqrt(dx)\n",
    "    return m"
   ]
  },
  {
   "cell_type": "code",
   "execution_count": null,
   "id": "1972a4a4",
   "metadata": {},
   "outputs": [],
   "source": [
    "## On regarde la différence entre la courbe théorique et la courbe obtenu\n",
    "\n",
    "p = np.arange(0,N,1)\n",
    "\n",
    "Ep = np.zeros(N)\n",
    "for i in range(N):\n",
    "    Ep[i] = (np.pi*(i+1)/L)**2\n",
    "\n",
    "plt.plot(p,w,label=\"$Numerical$\")\n",
    "plt.plot(p,Ep,label = \"$Theorical$\")\n",
    "plt.xlabel('$p$')\n",
    "plt.ylabel('$Ep$')\n",
    "plt.xlim(0, 100)\n",
    "plt.ylim(0, 2000)\n",
    "plt.legend()\n",
    "plt.savefig('document/energie_num_vs_theoric_n%.i.pdf' %N,format='pdf')\n",
    "plt.savefig('document/energie_num_vs_theoric_n%.i' %N)\n",
    "plt.show()"
   ]
  },
  {
   "cell_type": "code",
   "execution_count": null,
   "id": "2af88075",
   "metadata": {},
   "outputs": [],
   "source": [
    "# On compare le théorique et le calculé pour psi\n",
    "\n",
    "def psi_theo(p):\n",
    "    psi_theo = np.zeros(N)\n",
    "    for i in range(N):\n",
    "        if (p%2 == 0): #fonction pair\n",
    "            psi_theo[i] = np.sqrt(2/L)*np.cos(((p+1)*np.pi*x[i])/(L*2))\n",
    "        else: #fonction impair\n",
    "            psi_theo[i] = np.sqrt(2/L)*np.sin(((p+1)*np.pi*x[i])/(L*2))\n",
    "    return psi_theo\n",
    "\n",
    "def energie_pot(p,w):\n",
    "    value_ep = np.zeros(N)\n",
    "    for i in range(value_ep.size):\n",
    "        value_ep[i] = w[p]\n",
    "    return value_ep"
   ]
  },
  {
   "cell_type": "code",
   "execution_count": null,
   "id": "43a1db6b",
   "metadata": {
    "scrolled": true
   },
   "outputs": [],
   "source": [
    "# On crée la fonction pour former psi à partir de V (dans le cas où V n'est plus le même)\n",
    "\n",
    "def get_psi(V):\n",
    "    d,e = get_matrice(V)\n",
    "    \n",
    "    w, v = eigh_tridiagonal(d,e)\n",
    "    \n",
    "    for vec in v:\n",
    "        normalize(v,dx)\n",
    "    v0 = np.zeros((N,N))\n",
    "    for i in range(N):\n",
    "        for y in range(N):            #On échange ligne et colonnes\n",
    "            v0[i][y] = v[y][i]\n",
    "    \n",
    "    return w,v0\n",
    "\n",
    "# On crée la fonction pour afficher les graphiques\n",
    "\n",
    "def get_graph(w,v,name,theorical_psi):\n",
    "    for i in range(2):\n",
    "        plt.plot(x,v[i]+w[i],label=\"Numérique $p=%i$\" %i)\n",
    "        plt.plot(x,theorical_psi(i)+w[i],label = \"Théorique $p=%i$\" %i)\n",
    "        plt.plot(x,energie_pot(i,w),\"--\",label = \"Ep pour $p=%i$\" %i)\n",
    "    plt.xlabel('$x$')\n",
    "    plt.ylabel('$\\Psi(x)$')\n",
    "    plt.title('$\\Psi(x)$ en fonction de la position x (%i itérations)' %N)\n",
    "    plt.legend()\n",
    "    plt.savefig('document/psi_fonction_de_x_%s_n%i.pdf' %(name,N),format='pdf')\n",
    "    plt.savefig('document/psi_fonction_de_x_%s_n%i' %(name,N))\n",
    "    plt.show()"
   ]
  },
  {
   "cell_type": "code",
   "execution_count": null,
   "id": "3cf650e4",
   "metadata": {
    "scrolled": false
   },
   "outputs": [],
   "source": [
    "w,v = get_psi(V)\n",
    "\n",
    "get_graph(w,v,\"puit_infini\",psi_theo)"
   ]
  },
  {
   "cell_type": "code",
   "execution_count": null,
   "id": "ede9bfb8",
   "metadata": {
    "scrolled": false
   },
   "outputs": [],
   "source": [
    "# fonction pour avoir le psi théorique en harmonique \n",
    "\n",
    "def psi_theo_harmo(p):\n",
    "    return np.zeros(N) ## A FAIRE \n",
    "\n",
    "w,v = get_psi(V2)\n",
    "\n",
    "get_graph(w,v,\"harmonique\",psi_theo_harmo)"
   ]
  },
  {
   "cell_type": "code",
   "execution_count": null,
   "id": "8eee9b29",
   "metadata": {},
   "outputs": [],
   "source": []
  }
 ],
 "metadata": {
  "kernelspec": {
   "display_name": "Python 3.10.2 32-bit",
   "language": "python",
   "name": "python3"
  },
  "language_info": {
   "codemirror_mode": {
    "name": "ipython",
    "version": 3
   },
   "file_extension": ".py",
   "mimetype": "text/x-python",
   "name": "python",
   "nbconvert_exporter": "python",
   "pygments_lexer": "ipython3",
   "version": "3.10.2"
  },
  "vscode": {
   "interpreter": {
    "hash": "17999a8378a35389798968e93db08ea75eb5d1a70e903bcba9755769bbb8bc7a"
   }
  }
 },
 "nbformat": 4,
 "nbformat_minor": 5
}
